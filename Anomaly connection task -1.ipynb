{
 "cells": [
  {
   "cell_type": "markdown",
   "id": "3546efc2",
   "metadata": {},
   "source": [
    "# Task -1 Anomaly detection\n",
    "## Student ID1: *********\n",
    "## Student ID2:"
   ]
  },
  {
   "cell_type": "code",
   "execution_count": 1,
   "id": "9c00d47d",
   "metadata": {},
   "outputs": [
    {
     "name": "stdout",
     "output_type": "stream",
     "text": [
      "Requirement already satisfied: oletools in ./opt/anaconda3/lib/python3.9/site-packages (0.60.1)\n",
      "Requirement already satisfied: msoffcrypto-tool in ./opt/anaconda3/lib/python3.9/site-packages (from oletools) (5.0.0)\n",
      "Requirement already satisfied: pcodedmp>=1.2.5 in ./opt/anaconda3/lib/python3.9/site-packages (from oletools) (1.2.6)\n",
      "Requirement already satisfied: olefile>=0.46 in ./opt/anaconda3/lib/python3.9/site-packages (from oletools) (0.46)\n",
      "Requirement already satisfied: colorclass in ./opt/anaconda3/lib/python3.9/site-packages (from oletools) (2.2.2)\n",
      "Requirement already satisfied: easygui in ./opt/anaconda3/lib/python3.9/site-packages (from oletools) (0.98.3)\n",
      "Requirement already satisfied: pyparsing<3,>=2.1.0 in ./opt/anaconda3/lib/python3.9/site-packages (from oletools) (2.4.7)\n",
      "Requirement already satisfied: cryptography>=2.3 in ./opt/anaconda3/lib/python3.9/site-packages (from msoffcrypto-tool->oletools) (37.0.1)\n",
      "Requirement already satisfied: cffi>=1.12 in ./opt/anaconda3/lib/python3.9/site-packages (from cryptography>=2.3->msoffcrypto-tool->oletools) (1.15.1)\n",
      "Requirement already satisfied: pycparser in ./opt/anaconda3/lib/python3.9/site-packages (from cffi>=1.12->cryptography>=2.3->msoffcrypto-tool->oletools) (2.21)\n",
      "Note: you may need to restart the kernel to use updated packages.\n"
     ]
    }
   ],
   "source": [
    "%pip install oletools"
   ]
  },
  {
   "cell_type": "code",
   "execution_count": 140,
   "id": "4eaf6e31",
   "metadata": {},
   "outputs": [],
   "source": [
    "# Imports\n",
    "%matplotlib inline\n",
    "import pandas as pd\n",
    "import numpy as np\n",
    "import matplotlib.pyplot as plt\n",
    "import seaborn as sns\n",
    "from scipy.stats import norm\n",
    "from sklearn.preprocessing import StandardScaler\n",
    "from sklearn.ensemble import IsolationForest\n",
    "from sklearn.metrics import confusion_matrix, classification_report,accuracy_score, plot_confusion_matrix\n",
    "from scipy import stats\n",
    "import warnings"
   ]
  },
  {
   "cell_type": "code",
   "execution_count": 56,
   "id": "df9ebab4",
   "metadata": {},
   "outputs": [],
   "source": [
    "# file path - this for linux windows you will need \"//\"\n",
    "f_path = \"/Users/liozakirav/Documents/computer-science/fourth-year/cyber/Tasks/Anomaly-detection/conn_attack.csv\"\n",
    "'''\n",
    "record ID - The unique identifier for each connection record.\n",
    "duration_  This feature denotes the number of seconds (rounded) of the connection. For example, a connection for 0.17s or 0.3s would be indicated with a “0” in this field.\n",
    "src_bytes This field represents the number of data bytes transferred from the source to the destination (i.e., the amount of out-going bytes from the host).\n",
    "dst_bytes This fea\n",
    "ture represents the number of data bytes transferred from the destination to the source (i.e., the amount of bytes received by the host).\n",
    "'''\n",
    "df = pd.read_csv(f_path,names=[\"record ID\",\"duration_\", \"src_bytes\",\"dst_bytes\"], header=None)"
   ]
  },
  {
   "cell_type": "code",
   "execution_count": 4,
   "id": "66f32a05",
   "metadata": {},
   "outputs": [
    {
     "data": {
      "text/html": [
       "<div>\n",
       "<style scoped>\n",
       "    .dataframe tbody tr th:only-of-type {\n",
       "        vertical-align: middle;\n",
       "    }\n",
       "\n",
       "    .dataframe tbody tr th {\n",
       "        vertical-align: top;\n",
       "    }\n",
       "\n",
       "    .dataframe thead th {\n",
       "        text-align: right;\n",
       "    }\n",
       "</style>\n",
       "<table border=\"1\" class=\"dataframe\">\n",
       "  <thead>\n",
       "    <tr style=\"text-align: right;\">\n",
       "      <th></th>\n",
       "      <th>record ID</th>\n",
       "      <th>duration_</th>\n",
       "      <th>src_bytes</th>\n",
       "      <th>dst_bytes</th>\n",
       "    </tr>\n",
       "  </thead>\n",
       "  <tbody>\n",
       "    <tr>\n",
       "      <th>0</th>\n",
       "      <td>1</td>\n",
       "      <td>0</td>\n",
       "      <td>236</td>\n",
       "      <td>1228</td>\n",
       "    </tr>\n",
       "    <tr>\n",
       "      <th>1</th>\n",
       "      <td>2</td>\n",
       "      <td>0</td>\n",
       "      <td>239</td>\n",
       "      <td>486</td>\n",
       "    </tr>\n",
       "    <tr>\n",
       "      <th>2</th>\n",
       "      <td>3</td>\n",
       "      <td>0</td>\n",
       "      <td>234</td>\n",
       "      <td>1364</td>\n",
       "    </tr>\n",
       "    <tr>\n",
       "      <th>3</th>\n",
       "      <td>4</td>\n",
       "      <td>0</td>\n",
       "      <td>239</td>\n",
       "      <td>1295</td>\n",
       "    </tr>\n",
       "    <tr>\n",
       "      <th>4</th>\n",
       "      <td>5</td>\n",
       "      <td>0</td>\n",
       "      <td>181</td>\n",
       "      <td>5450</td>\n",
       "    </tr>\n",
       "    <tr>\n",
       "      <th>...</th>\n",
       "      <td>...</td>\n",
       "      <td>...</td>\n",
       "      <td>...</td>\n",
       "      <td>...</td>\n",
       "    </tr>\n",
       "    <tr>\n",
       "      <th>256665</th>\n",
       "      <td>256666</td>\n",
       "      <td>0</td>\n",
       "      <td>306</td>\n",
       "      <td>236</td>\n",
       "    </tr>\n",
       "    <tr>\n",
       "      <th>256666</th>\n",
       "      <td>256667</td>\n",
       "      <td>0</td>\n",
       "      <td>288</td>\n",
       "      <td>4017</td>\n",
       "    </tr>\n",
       "    <tr>\n",
       "      <th>256667</th>\n",
       "      <td>256668</td>\n",
       "      <td>0</td>\n",
       "      <td>289</td>\n",
       "      <td>1096</td>\n",
       "    </tr>\n",
       "    <tr>\n",
       "      <th>256668</th>\n",
       "      <td>256669</td>\n",
       "      <td>0</td>\n",
       "      <td>198</td>\n",
       "      <td>2169</td>\n",
       "    </tr>\n",
       "    <tr>\n",
       "      <th>256669</th>\n",
       "      <td>256670</td>\n",
       "      <td>0</td>\n",
       "      <td>212</td>\n",
       "      <td>2288</td>\n",
       "    </tr>\n",
       "  </tbody>\n",
       "</table>\n",
       "<p>256670 rows × 4 columns</p>\n",
       "</div>"
      ],
      "text/plain": [
       "        record ID  duration_  src_bytes  dst_bytes\n",
       "0               1          0        236       1228\n",
       "1               2          0        239        486\n",
       "2               3          0        234       1364\n",
       "3               4          0        239       1295\n",
       "4               5          0        181       5450\n",
       "...           ...        ...        ...        ...\n",
       "256665     256666          0        306        236\n",
       "256666     256667          0        288       4017\n",
       "256667     256668          0        289       1096\n",
       "256668     256669          0        198       2169\n",
       "256669     256670          0        212       2288\n",
       "\n",
       "[256670 rows x 4 columns]"
      ]
     },
     "execution_count": 4,
     "metadata": {},
     "output_type": "execute_result"
    }
   ],
   "source": [
    "# drops nan values in the dataset\n",
    "df"
   ]
  },
  {
   "cell_type": "markdown",
   "id": "a63a0823",
   "metadata": {},
   "source": [
    "Checks for missing data"
   ]
  },
  {
   "cell_type": "code",
   "execution_count": 7,
   "id": "8114ebf2",
   "metadata": {},
   "outputs": [
    {
     "data": {
      "text/plain": [
       "record ID    0.0\n",
       "duration_    0.0\n",
       "src_bytes    0.0\n",
       "dst_bytes    0.0\n",
       "dtype: float64"
      ]
     },
     "execution_count": 7,
     "metadata": {},
     "output_type": "execute_result"
    }
   ],
   "source": [
    "# calculates the missing data precentage\n",
    "df.apply(lambda x: sum(x.isna()) / len(df))"
   ]
  },
  {
   "cell_type": "markdown",
   "id": "c32de8d3",
   "metadata": {},
   "source": [
    "Result: No data is missing"
   ]
  },
  {
   "cell_type": "code",
   "execution_count": 9,
   "id": "8eeecc63",
   "metadata": {},
   "outputs": [
    {
     "data": {
      "text/plain": [
       "(256670, 4)"
      ]
     },
     "execution_count": 9,
     "metadata": {},
     "output_type": "execute_result"
    }
   ],
   "source": [
    "df.shape # gets details about the num of rows and columns of our dataset "
   ]
  },
  {
   "cell_type": "markdown",
   "id": "bbf7fbb3",
   "metadata": {},
   "source": [
    "## Data Overview & Exploration"
   ]
  },
  {
   "cell_type": "code",
   "execution_count": 10,
   "id": "2fa1b9bb",
   "metadata": {},
   "outputs": [
    {
     "data": {
      "text/html": [
       "<div>\n",
       "<style scoped>\n",
       "    .dataframe tbody tr th:only-of-type {\n",
       "        vertical-align: middle;\n",
       "    }\n",
       "\n",
       "    .dataframe tbody tr th {\n",
       "        vertical-align: top;\n",
       "    }\n",
       "\n",
       "    .dataframe thead th {\n",
       "        text-align: right;\n",
       "    }\n",
       "</style>\n",
       "<table border=\"1\" class=\"dataframe\">\n",
       "  <thead>\n",
       "    <tr style=\"text-align: right;\">\n",
       "      <th></th>\n",
       "      <th>record ID</th>\n",
       "      <th>duration_</th>\n",
       "      <th>src_bytes</th>\n",
       "      <th>dst_bytes</th>\n",
       "    </tr>\n",
       "  </thead>\n",
       "  <tbody>\n",
       "    <tr>\n",
       "      <th>0</th>\n",
       "      <td>1</td>\n",
       "      <td>0</td>\n",
       "      <td>236</td>\n",
       "      <td>1228</td>\n",
       "    </tr>\n",
       "    <tr>\n",
       "      <th>1</th>\n",
       "      <td>2</td>\n",
       "      <td>0</td>\n",
       "      <td>239</td>\n",
       "      <td>486</td>\n",
       "    </tr>\n",
       "    <tr>\n",
       "      <th>2</th>\n",
       "      <td>3</td>\n",
       "      <td>0</td>\n",
       "      <td>234</td>\n",
       "      <td>1364</td>\n",
       "    </tr>\n",
       "    <tr>\n",
       "      <th>3</th>\n",
       "      <td>4</td>\n",
       "      <td>0</td>\n",
       "      <td>239</td>\n",
       "      <td>1295</td>\n",
       "    </tr>\n",
       "    <tr>\n",
       "      <th>4</th>\n",
       "      <td>5</td>\n",
       "      <td>0</td>\n",
       "      <td>181</td>\n",
       "      <td>5450</td>\n",
       "    </tr>\n",
       "  </tbody>\n",
       "</table>\n",
       "</div>"
      ],
      "text/plain": [
       "   record ID  duration_  src_bytes  dst_bytes\n",
       "0          1          0        236       1228\n",
       "1          2          0        239        486\n",
       "2          3          0        234       1364\n",
       "3          4          0        239       1295\n",
       "4          5          0        181       5450"
      ]
     },
     "execution_count": 10,
     "metadata": {},
     "output_type": "execute_result"
    }
   ],
   "source": [
    "df.head() # checks how our dataset looks like"
   ]
  },
  {
   "cell_type": "markdown",
   "id": "80e57a23",
   "metadata": {},
   "source": [
    "Data fields\n",
    "\n",
    "record ID - The unique identifier for each connection record.\n",
    "Duration_ - This feature denotes the number of seconds (rounded) of the connection. For example, a connection for 0.17s or 0.3s would be indicated with a “0” in this field.\n",
    "src_bytes - This field represents the number of data bytes transferred from the source to the destination (i.e., the number of outgoing bytes from the host).\n",
    "dst_bytes - This feature represents the number of data bytes transferred from the destination to the source (i.e., the number of bytes received by the host)."
   ]
  },
  {
   "cell_type": "code",
   "execution_count": 11,
   "id": "7881fe44",
   "metadata": {},
   "outputs": [
    {
     "data": {
      "text/html": [
       "<div>\n",
       "<style scoped>\n",
       "    .dataframe tbody tr th:only-of-type {\n",
       "        vertical-align: middle;\n",
       "    }\n",
       "\n",
       "    .dataframe tbody tr th {\n",
       "        vertical-align: top;\n",
       "    }\n",
       "\n",
       "    .dataframe thead th {\n",
       "        text-align: right;\n",
       "    }\n",
       "</style>\n",
       "<table border=\"1\" class=\"dataframe\">\n",
       "  <thead>\n",
       "    <tr style=\"text-align: right;\">\n",
       "      <th></th>\n",
       "      <th>record ID</th>\n",
       "      <th>duration_</th>\n",
       "      <th>src_bytes</th>\n",
       "      <th>dst_bytes</th>\n",
       "    </tr>\n",
       "  </thead>\n",
       "  <tbody>\n",
       "    <tr>\n",
       "      <th>count</th>\n",
       "      <td>256670.000000</td>\n",
       "      <td>256670.000000</td>\n",
       "      <td>256670.000000</td>\n",
       "      <td>2.566700e+05</td>\n",
       "    </tr>\n",
       "    <tr>\n",
       "      <th>mean</th>\n",
       "      <td>128335.500000</td>\n",
       "      <td>0.640936</td>\n",
       "      <td>474.247898</td>\n",
       "      <td>4.473533e+03</td>\n",
       "    </tr>\n",
       "    <tr>\n",
       "      <th>std</th>\n",
       "      <td>74094.391134</td>\n",
       "      <td>15.627170</td>\n",
       "      <td>3391.106084</td>\n",
       "      <td>2.080903e+04</td>\n",
       "    </tr>\n",
       "    <tr>\n",
       "      <th>min</th>\n",
       "      <td>1.000000</td>\n",
       "      <td>0.000000</td>\n",
       "      <td>0.000000</td>\n",
       "      <td>0.000000e+00</td>\n",
       "    </tr>\n",
       "    <tr>\n",
       "      <th>25%</th>\n",
       "      <td>64168.250000</td>\n",
       "      <td>0.000000</td>\n",
       "      <td>217.000000</td>\n",
       "      <td>6.600000e+02</td>\n",
       "    </tr>\n",
       "    <tr>\n",
       "      <th>50%</th>\n",
       "      <td>128335.500000</td>\n",
       "      <td>0.000000</td>\n",
       "      <td>249.000000</td>\n",
       "      <td>1.661000e+03</td>\n",
       "    </tr>\n",
       "    <tr>\n",
       "      <th>75%</th>\n",
       "      <td>192502.750000</td>\n",
       "      <td>0.000000</td>\n",
       "      <td>306.000000</td>\n",
       "      <td>4.341000e+03</td>\n",
       "    </tr>\n",
       "    <tr>\n",
       "      <th>max</th>\n",
       "      <td>256670.000000</td>\n",
       "      <td>3289.000000</td>\n",
       "      <td>54540.000000</td>\n",
       "      <td>7.068759e+06</td>\n",
       "    </tr>\n",
       "  </tbody>\n",
       "</table>\n",
       "</div>"
      ],
      "text/plain": [
       "           record ID      duration_      src_bytes     dst_bytes\n",
       "count  256670.000000  256670.000000  256670.000000  2.566700e+05\n",
       "mean   128335.500000       0.640936     474.247898  4.473533e+03\n",
       "std     74094.391134      15.627170    3391.106084  2.080903e+04\n",
       "min         1.000000       0.000000       0.000000  0.000000e+00\n",
       "25%     64168.250000       0.000000     217.000000  6.600000e+02\n",
       "50%    128335.500000       0.000000     249.000000  1.661000e+03\n",
       "75%    192502.750000       0.000000     306.000000  4.341000e+03\n",
       "max    256670.000000    3289.000000   54540.000000  7.068759e+06"
      ]
     },
     "execution_count": 11,
     "metadata": {},
     "output_type": "execute_result"
    }
   ],
   "source": [
    "df.describe() # general statistics about the dataset"
   ]
  },
  {
   "cell_type": "code",
   "execution_count": 12,
   "id": "c29d7981",
   "metadata": {},
   "outputs": [
    {
     "name": "stdout",
     "output_type": "stream",
     "text": [
      "median_duration: 0.00\n",
      "std_duration: 15.63\n",
      "median_src_b: 249.00\n",
      "std_src_b: 3391.11\n",
      "median_dst_b: 4473.53\n",
      "std_dst_b: 20809.03\n",
      "total_smaples: 256670\n"
     ]
    }
   ],
   "source": [
    "# caluculates and stores the median and the std of each feature \n",
    "\n",
    "median_duration = df['duration_'].median()\n",
    "print(f\"median_duration: {median_duration:.2f}\")\n",
    "\n",
    "std_duration = df['duration_'].std()\n",
    "print(f\"std_duration: {std_duration:.2f}\")\n",
    "\n",
    "median_src_b = df['src_bytes'].median()\n",
    "print(f\"median_src_b: {median_src_b:.2f}\")\n",
    "\n",
    "std_src_b = df['src_bytes'].std()\n",
    "print(f\"std_src_b: {std_src_b:.2f}\")\n",
    "\n",
    "median_dst_b = df['dst_bytes'].mean()\n",
    "print(f\"median_dst_b: {median_dst_b:.2f}\")\n",
    "\n",
    "std_dst_b = df['dst_bytes'].std()\n",
    "print(f\"std_dst_b: {std_dst_b:.2f}\")\n",
    "\n",
    "total_smaples = df.count()\n",
    "print(f\"total_smaples: {total_smaples[0]}\")"
   ]
  },
  {
   "cell_type": "code",
   "execution_count": 13,
   "id": "c75aab40",
   "metadata": {},
   "outputs": [
    {
     "name": "stdout",
     "output_type": "stream",
     "text": [
      "The contamination is: 0.00395060\n",
      "The percentage of samples in which the data sent exceeded its mean + std is: 0.39505980%\n"
     ]
    },
    {
     "data": {
      "text/html": [
       "<div>\n",
       "<style scoped>\n",
       "    .dataframe tbody tr th:only-of-type {\n",
       "        vertical-align: middle;\n",
       "    }\n",
       "\n",
       "    .dataframe tbody tr th {\n",
       "        vertical-align: top;\n",
       "    }\n",
       "\n",
       "    .dataframe thead th {\n",
       "        text-align: right;\n",
       "    }\n",
       "</style>\n",
       "<table border=\"1\" class=\"dataframe\">\n",
       "  <thead>\n",
       "    <tr style=\"text-align: right;\">\n",
       "      <th></th>\n",
       "      <th>record ID</th>\n",
       "      <th>duration_</th>\n",
       "      <th>src_bytes</th>\n",
       "      <th>dst_bytes</th>\n",
       "    </tr>\n",
       "  </thead>\n",
       "  <tbody>\n",
       "    <tr>\n",
       "      <th>140814</th>\n",
       "      <td>140815</td>\n",
       "      <td>0</td>\n",
       "      <td>54540</td>\n",
       "      <td>8314</td>\n",
       "    </tr>\n",
       "    <tr>\n",
       "      <th>140815</th>\n",
       "      <td>140816</td>\n",
       "      <td>0</td>\n",
       "      <td>54540</td>\n",
       "      <td>8314</td>\n",
       "    </tr>\n",
       "    <tr>\n",
       "      <th>140816</th>\n",
       "      <td>140817</td>\n",
       "      <td>0</td>\n",
       "      <td>54540</td>\n",
       "      <td>8314</td>\n",
       "    </tr>\n",
       "    <tr>\n",
       "      <th>140817</th>\n",
       "      <td>140818</td>\n",
       "      <td>0</td>\n",
       "      <td>54540</td>\n",
       "      <td>8314</td>\n",
       "    </tr>\n",
       "    <tr>\n",
       "      <th>140818</th>\n",
       "      <td>140819</td>\n",
       "      <td>0</td>\n",
       "      <td>54540</td>\n",
       "      <td>8314</td>\n",
       "    </tr>\n",
       "    <tr>\n",
       "      <th>...</th>\n",
       "      <td>...</td>\n",
       "      <td>...</td>\n",
       "      <td>...</td>\n",
       "      <td>...</td>\n",
       "    </tr>\n",
       "    <tr>\n",
       "      <th>232764</th>\n",
       "      <td>232765</td>\n",
       "      <td>0</td>\n",
       "      <td>54540</td>\n",
       "      <td>8314</td>\n",
       "    </tr>\n",
       "    <tr>\n",
       "      <th>232765</th>\n",
       "      <td>232766</td>\n",
       "      <td>0</td>\n",
       "      <td>54540</td>\n",
       "      <td>8314</td>\n",
       "    </tr>\n",
       "    <tr>\n",
       "      <th>232766</th>\n",
       "      <td>232767</td>\n",
       "      <td>0</td>\n",
       "      <td>54540</td>\n",
       "      <td>8314</td>\n",
       "    </tr>\n",
       "    <tr>\n",
       "      <th>232767</th>\n",
       "      <td>232768</td>\n",
       "      <td>0</td>\n",
       "      <td>54540</td>\n",
       "      <td>8314</td>\n",
       "    </tr>\n",
       "    <tr>\n",
       "      <th>232768</th>\n",
       "      <td>232769</td>\n",
       "      <td>0</td>\n",
       "      <td>54540</td>\n",
       "      <td>8314</td>\n",
       "    </tr>\n",
       "  </tbody>\n",
       "</table>\n",
       "<p>1014 rows × 4 columns</p>\n",
       "</div>"
      ],
      "text/plain": [
       "        record ID  duration_  src_bytes  dst_bytes\n",
       "140814     140815          0      54540       8314\n",
       "140815     140816          0      54540       8314\n",
       "140816     140817          0      54540       8314\n",
       "140817     140818          0      54540       8314\n",
       "140818     140819          0      54540       8314\n",
       "...           ...        ...        ...        ...\n",
       "232764     232765          0      54540       8314\n",
       "232765     232766          0      54540       8314\n",
       "232766     232767          0      54540       8314\n",
       "232767     232768          0      54540       8314\n",
       "232768     232769          0      54540       8314\n",
       "\n",
       "[1014 rows x 4 columns]"
      ]
     },
     "execution_count": 13,
     "metadata": {},
     "output_type": "execute_result"
    }
   ],
   "source": [
    "# calculates the suspected share of outliers in the dataset\n",
    "contamination = df[df['src_bytes'] > (median_src_b + std_dst_b)].count() / total_smaples\n",
    "print(f\"The contamination is: {contamination[0]:.08f}\")\n",
    "# calculates the percentage of samples in which the data sent exceeded its mean + std\n",
    "percentage = df[df['src_bytes'] > (median_src_b + std_dst_b)].count() / total_smaples * 100\n",
    "print(f\"The percentage of samples in which the data sent exceeded its mean + std is: {percentage[0]:.08f}%\")\n",
    "df[df['src_bytes'] > (median_src_b + std_dst_b)]"
   ]
  },
  {
   "cell_type": "code",
   "execution_count": 14,
   "id": "a9846da6",
   "metadata": {},
   "outputs": [
    {
     "data": {
      "text/html": [
       "<div>\n",
       "<style scoped>\n",
       "    .dataframe tbody tr th:only-of-type {\n",
       "        vertical-align: middle;\n",
       "    }\n",
       "\n",
       "    .dataframe tbody tr th {\n",
       "        vertical-align: top;\n",
       "    }\n",
       "\n",
       "    .dataframe thead th {\n",
       "        text-align: right;\n",
       "    }\n",
       "</style>\n",
       "<table border=\"1\" class=\"dataframe\">\n",
       "  <thead>\n",
       "    <tr style=\"text-align: right;\">\n",
       "      <th></th>\n",
       "      <th>record ID</th>\n",
       "      <th>duration_</th>\n",
       "      <th>src_bytes</th>\n",
       "      <th>dst_bytes</th>\n",
       "    </tr>\n",
       "  </thead>\n",
       "  <tbody>\n",
       "    <tr>\n",
       "      <th>count</th>\n",
       "      <td>1014.000000</td>\n",
       "      <td>1014.000000</td>\n",
       "      <td>1014.000000</td>\n",
       "      <td>1014.000000</td>\n",
       "    </tr>\n",
       "    <tr>\n",
       "      <th>mean</th>\n",
       "      <td>150139.820513</td>\n",
       "      <td>0.141026</td>\n",
       "      <td>54254.082840</td>\n",
       "      <td>8206.328402</td>\n",
       "    </tr>\n",
       "    <tr>\n",
       "      <th>std</th>\n",
       "      <td>24259.625179</td>\n",
       "      <td>1.220439</td>\n",
       "      <td>2101.760736</td>\n",
       "      <td>695.781481</td>\n",
       "    </tr>\n",
       "    <tr>\n",
       "      <th>min</th>\n",
       "      <td>140815.000000</td>\n",
       "      <td>0.000000</td>\n",
       "      <td>26280.000000</td>\n",
       "      <td>0.000000</td>\n",
       "    </tr>\n",
       "    <tr>\n",
       "      <th>25%</th>\n",
       "      <td>141069.250000</td>\n",
       "      <td>0.000000</td>\n",
       "      <td>54540.000000</td>\n",
       "      <td>8314.000000</td>\n",
       "    </tr>\n",
       "    <tr>\n",
       "      <th>50%</th>\n",
       "      <td>143045.500000</td>\n",
       "      <td>0.000000</td>\n",
       "      <td>54540.000000</td>\n",
       "      <td>8314.000000</td>\n",
       "    </tr>\n",
       "    <tr>\n",
       "      <th>75%</th>\n",
       "      <td>143299.750000</td>\n",
       "      <td>0.000000</td>\n",
       "      <td>54540.000000</td>\n",
       "      <td>8314.000000</td>\n",
       "    </tr>\n",
       "    <tr>\n",
       "      <th>max</th>\n",
       "      <td>232769.000000</td>\n",
       "      <td>14.000000</td>\n",
       "      <td>54540.000000</td>\n",
       "      <td>8315.000000</td>\n",
       "    </tr>\n",
       "  </tbody>\n",
       "</table>\n",
       "</div>"
      ],
      "text/plain": [
       "           record ID    duration_     src_bytes    dst_bytes\n",
       "count    1014.000000  1014.000000   1014.000000  1014.000000\n",
       "mean   150139.820513     0.141026  54254.082840  8206.328402\n",
       "std     24259.625179     1.220439   2101.760736   695.781481\n",
       "min    140815.000000     0.000000  26280.000000     0.000000\n",
       "25%    141069.250000     0.000000  54540.000000  8314.000000\n",
       "50%    143045.500000     0.000000  54540.000000  8314.000000\n",
       "75%    143299.750000     0.000000  54540.000000  8314.000000\n",
       "max    232769.000000    14.000000  54540.000000  8315.000000"
      ]
     },
     "execution_count": 14,
     "metadata": {},
     "output_type": "execute_result"
    }
   ],
   "source": [
    "df[df['src_bytes'] > (median_src_b + std_dst_b)].describe() # let's describe our results"
   ]
  },
  {
   "cell_type": "code",
   "execution_count": 15,
   "id": "5a27f250",
   "metadata": {},
   "outputs": [
    {
     "name": "stdout",
     "output_type": "stream",
     "text": [
      "Skewness: 15.824471\n",
      "Kurtosis: 248.739606\n"
     ]
    }
   ],
   "source": [
    "'''\n",
    "Deviate from the normal distribution.\n",
    "Have appreciable positive skewness.\n",
    "Show peakedness.\n",
    "'''\n",
    "#skewness and kurtosis\n",
    "print(\"Skewness: %f\" % df['src_bytes'].skew())\n",
    "print(\"Kurtosis: %f\" % df['src_bytes'].kurt()) # positive show long tail , negative light tail"
   ]
  },
  {
   "cell_type": "code",
   "execution_count": 16,
   "id": "42be9700",
   "metadata": {},
   "outputs": [
    {
     "name": "stdout",
     "output_type": "stream",
     "text": [
      "Skewness: 207.100418\n",
      "Kurtosis: 61028.785029\n"
     ]
    },
    {
     "data": {
      "image/png": "[encoded data removed]",
      "text/plain": [
       "<Figure size 500x500 with 1 Axes>"
      ]
     },
     "metadata": {},
     "output_type": "display_data"
    }
   ],
   "source": [
    "sns.displot(df['dst_bytes'])\n",
    "print(\"Skewness: %f\" % df['dst_bytes'].skew())\n",
    "print(\"Kurtosis: %f\" % df['dst_bytes'].kurt())"
   ]
  },
  {
   "cell_type": "code",
   "execution_count": 17,
   "id": "6052f631",
   "metadata": {},
   "outputs": [
    {
     "data": {
      "text/plain": [
       "<AxesSubplot:xlabel='dst_bytes', ylabel='src_bytes'>"
      ]
     },
     "execution_count": 17,
     "metadata": {},
     "output_type": "execute_result"
    },
    {
     "data": {
      "image/png": "[encoded data removed]",
      "text/plain": [
       "<Figure size 640x480 with 1 Axes>"
      ]
     },
     "metadata": {},
     "output_type": "display_data"
    }
   ],
   "source": [
    "# relationship with numerical variables\n",
    "var = 'dst_bytes'\n",
    "data = pd.concat([df['src_bytes'], df[var]], axis=1)\n",
    "data.plot.scatter(x=var, y='src_bytes', ylim=(0,60000))"
   ]
  },
  {
   "cell_type": "code",
   "execution_count": 18,
   "id": "85d85e3d",
   "metadata": {},
   "outputs": [
    {
     "data": {
      "image/png": "[encoded data removed]",
      "text/plain": [
       "<Figure size 640x480 with 1 Axes>"
      ]
     },
     "metadata": {},
     "output_type": "display_data"
    }
   ],
   "source": [
    "#scatter plot totalbsmtsf/saleprice\n",
    "var = 'duration_'\n",
    "data = pd.concat([df['src_bytes'], df[var]], axis=1)\n",
    "data.plot.scatter(x=var, y='src_bytes', ylim=(0,3000));"
   ]
  },
  {
   "cell_type": "code",
   "execution_count": 19,
   "id": "f7786e37",
   "metadata": {},
   "outputs": [
    {
     "data": {
      "text/html": [
       "<div>\n",
       "<style scoped>\n",
       "    .dataframe tbody tr th:only-of-type {\n",
       "        vertical-align: middle;\n",
       "    }\n",
       "\n",
       "    .dataframe tbody tr th {\n",
       "        vertical-align: top;\n",
       "    }\n",
       "\n",
       "    .dataframe thead th {\n",
       "        text-align: right;\n",
       "    }\n",
       "</style>\n",
       "<table border=\"1\" class=\"dataframe\">\n",
       "  <thead>\n",
       "    <tr style=\"text-align: right;\">\n",
       "      <th></th>\n",
       "      <th>record ID</th>\n",
       "      <th>duration_</th>\n",
       "      <th>src_bytes</th>\n",
       "      <th>dst_bytes</th>\n",
       "    </tr>\n",
       "  </thead>\n",
       "  <tbody>\n",
       "    <tr>\n",
       "      <th>record ID</th>\n",
       "      <td>1.000000</td>\n",
       "      <td>0.027244</td>\n",
       "      <td>0.019209</td>\n",
       "      <td>-0.002970</td>\n",
       "    </tr>\n",
       "    <tr>\n",
       "      <th>duration_</th>\n",
       "      <td>0.027244</td>\n",
       "      <td>1.000000</td>\n",
       "      <td>-0.001714</td>\n",
       "      <td>-0.005791</td>\n",
       "    </tr>\n",
       "    <tr>\n",
       "      <th>src_bytes</th>\n",
       "      <td>0.019209</td>\n",
       "      <td>-0.001714</td>\n",
       "      <td>1.000000</td>\n",
       "      <td>0.010770</td>\n",
       "    </tr>\n",
       "    <tr>\n",
       "      <th>dst_bytes</th>\n",
       "      <td>-0.002970</td>\n",
       "      <td>-0.005791</td>\n",
       "      <td>0.010770</td>\n",
       "      <td>1.000000</td>\n",
       "    </tr>\n",
       "  </tbody>\n",
       "</table>\n",
       "</div>"
      ],
      "text/plain": [
       "           record ID  duration_  src_bytes  dst_bytes\n",
       "record ID   1.000000   0.027244   0.019209  -0.002970\n",
       "duration_   0.027244   1.000000  -0.001714  -0.005791\n",
       "src_bytes   0.019209  -0.001714   1.000000   0.010770\n",
       "dst_bytes  -0.002970  -0.005791   0.010770   1.000000"
      ]
     },
     "execution_count": 19,
     "metadata": {},
     "output_type": "execute_result"
    }
   ],
   "source": [
    "df.corr() "
   ]
  },
  {
   "cell_type": "code",
   "execution_count": 20,
   "id": "0ca0fed7",
   "metadata": {},
   "outputs": [
    {
     "data": {
      "image/png": "[encoded data removed]",
      "text/plain": [
       "<Figure size 1600x600 with 2 Axes>"
      ]
     },
     "metadata": {},
     "output_type": "display_data"
    }
   ],
   "source": [
    "# Increase the size of the heatmap.\n",
    "plt.figure(figsize=(16, 6))\n",
    "heatmap = sns.heatmap(df.corr(), vmin=-1, vmax=1, annot=True)\n",
    "heatmap.set_title('Correlation Heatmap', fontdict={'fontsize':12});"
   ]
  },
  {
   "cell_type": "code",
   "execution_count": 21,
   "id": "1b4b663e",
   "metadata": {},
   "outputs": [
    {
     "data": {
      "image/png": "[encoded data removed]",
      "text/plain": [
       "<Figure size 800x1200 with 2 Axes>"
      ]
     },
     "metadata": {},
     "output_type": "display_data"
    }
   ],
   "source": [
    "plt.figure(figsize=(8, 12))\n",
    "heatmap = sns.heatmap(df.corr()[['src_bytes']].sort_values(by='src_bytes', ascending=False), vmin=-1, vmax=1, annot=True, cmap='BrBG')\n",
    "heatmap.set_title('Features Correlating with src_bytes', fontdict={'fontsize':18});"
   ]
  },
  {
   "cell_type": "markdown",
   "id": "0b567ac6",
   "metadata": {},
   "source": [
    "Back to the task\n",
    "Summary of data exploration: in the report."
   ]
  },
  {
   "cell_type": "markdown",
   "id": "b8a61b82",
   "metadata": {},
   "source": [
    "# Machine Learning Algorithms"
   ]
  },
  {
   "cell_type": "markdown",
   "id": "7d49c734",
   "metadata": {},
   "source": [
    "### Algorithm: Isolation Forest"
   ]
  },
  {
   "cell_type": "code",
   "execution_count": 147,
   "id": "709b1d47",
   "metadata": {},
   "outputs": [
    {
     "name": "stdout",
     "output_type": "stream",
     "text": [
      "0.003950598044181244\n"
     ]
    },
    {
     "name": "stderr",
     "output_type": "stream",
     "text": [
      "/Users/liozakirav/opt/anaconda3/lib/python3.9/site-packages/sklearn/base.py:450: UserWarning: X does not have valid feature names, but IsolationForest was fitted with feature names\n",
      "  warnings.warn(\n"
     ]
    },
    {
     "data": {
      "text/html": [
       "<style>#sk-container-id-15 {color: black;background-color: white;}#sk-container-id-15 pre{padding: 0;}#sk-container-id-15 div.sk-toggleable {background-color: white;}#sk-container-id-15 label.sk-toggleable__label {cursor: pointer;display: block;width: 100%;margin-bottom: 0;padding: 0.3em;box-sizing: border-box;text-align: center;}#sk-container-id-15 label.sk-toggleable__label-arrow:before {content: \"▸\";float: left;margin-right: 0.25em;color: #696969;}#sk-container-id-15 label.sk-toggleable__label-arrow:hover:before {color: black;}#sk-container-id-15 div.sk-estimator:hover label.sk-toggleable__label-arrow:before {color: black;}#sk-container-id-15 div.sk-toggleable__content {max-height: 0;max-width: 0;overflow: hidden;text-align: left;background-color: #f0f8ff;}#sk-container-id-15 div.sk-toggleable__content pre {margin: 0.2em;color: black;border-radius: 0.25em;background-color: #f0f8ff;}#sk-container-id-15 input.sk-toggleable__control:checked~div.sk-toggleable__content {max-height: 200px;max-width: 100%;overflow: auto;}#sk-container-id-15 input.sk-toggleable__control:checked~label.sk-toggleable__label-arrow:before {content: \"▾\";}#sk-container-id-15 div.sk-estimator input.sk-toggleable__control:checked~label.sk-toggleable__label {background-color: #d4ebff;}#sk-container-id-15 div.sk-label input.sk-toggleable__control:checked~label.sk-toggleable__label {background-color: #d4ebff;}#sk-container-id-15 input.sk-hidden--visually {border: 0;clip: rect(1px 1px 1px 1px);clip: rect(1px, 1px, 1px, 1px);height: 1px;margin: -1px;overflow: hidden;padding: 0;position: absolute;width: 1px;}#sk-container-id-15 div.sk-estimator {font-family: monospace;background-color: #f0f8ff;border: 1px dotted black;border-radius: 0.25em;box-sizing: border-box;margin-bottom: 0.5em;}#sk-container-id-15 div.sk-estimator:hover {background-color: #d4ebff;}#sk-container-id-15 div.sk-parallel-item::after {content: \"\";width: 100%;border-bottom: 1px solid gray;flex-grow: 1;}#sk-container-id-15 div.sk-label:hover label.sk-toggleable__label {background-color: #d4ebff;}#sk-container-id-15 div.sk-serial::before {content: \"\";position: absolute;border-left: 1px solid gray;box-sizing: border-box;top: 0;bottom: 0;left: 50%;z-index: 0;}#sk-container-id-15 div.sk-serial {display: flex;flex-direction: column;align-items: center;background-color: white;padding-right: 0.2em;padding-left: 0.2em;position: relative;}#sk-container-id-15 div.sk-item {position: relative;z-index: 1;}#sk-container-id-15 div.sk-parallel {display: flex;align-items: stretch;justify-content: center;background-color: white;position: relative;}#sk-container-id-15 div.sk-item::before, #sk-container-id-15 div.sk-parallel-item::before {content: \"\";position: absolute;border-left: 1px solid gray;box-sizing: border-box;top: 0;bottom: 0;left: 50%;z-index: -1;}#sk-container-id-15 div.sk-parallel-item {display: flex;flex-direction: column;z-index: 1;position: relative;background-color: white;}#sk-container-id-15 div.sk-parallel-item:first-child::after {align-self: flex-end;width: 50%;}#sk-container-id-15 div.sk-parallel-item:last-child::after {align-self: flex-start;width: 50%;}#sk-container-id-15 div.sk-parallel-item:only-child::after {width: 0;}#sk-container-id-15 div.sk-dashed-wrapped {border: 1px dashed gray;margin: 0 0.4em 0.5em 0.4em;box-sizing: border-box;padding-bottom: 0.4em;background-color: white;}#sk-container-id-15 div.sk-label label {font-family: monospace;font-weight: bold;display: inline-block;line-height: 1.2em;}#sk-container-id-15 div.sk-label-container {text-align: center;}#sk-container-id-15 div.sk-container {/* jupyter's `normalize.less` sets `[hidden] { display: none; }` but bootstrap.min.css set `[hidden] { display: none !important; }` so we also need the `!important` here to be able to override the default hidden behavior on the sphinx rendered scikit-learn.org. See: https://github.com/scikit-learn/scikit-learn/issues/21755 */display: inline-block !important;position: relative;}#sk-container-id-15 div.sk-text-repr-fallback {display: none;}</style><div id=\"sk-container-id-15\" class=\"sk-top-container\"><div class=\"sk-text-repr-fallback\"><pre>IsolationForest(contamination=0.003950598044181244, n_estimators=50)</pre><b>In a Jupyter environment, please rerun this cell to show the HTML representation or trust the notebook. <br />On GitHub, the HTML representation is unable to render, please try loading this page with nbviewer.org.</b></div><div class=\"sk-container\" hidden><div class=\"sk-item\"><div class=\"sk-estimator sk-toggleable\"><input class=\"sk-toggleable__control sk-hidden--visually\" id=\"sk-estimator-id-17\" type=\"checkbox\" checked><label for=\"sk-estimator-id-17\" class=\"sk-toggleable__label sk-toggleable__label-arrow\">IsolationForest</label><div class=\"sk-toggleable__content\"><pre>IsolationForest(contamination=0.003950598044181244, n_estimators=50)</pre></div></div></div></div></div>"
      ],
      "text/plain": [
       "IsolationForest(contamination=0.003950598044181244, n_estimators=50)"
      ]
     },
     "execution_count": 147,
     "metadata": {},
     "output_type": "execute_result"
    }
   ],
   "source": [
    "# calculates the suspected share of outliers in the dataset\n",
    "num_of_suspected_outliers = df[df['src_bytes'] > (median_src_b + std_dst_b)].count() \n",
    "estimte_contamination = num_of_suspected_outliers / total_smaples\n",
    "estimte_contamination = estimte_contamination[0]\n",
    "print(estimte_contamination)\n",
    "n_estimators = 50\n",
    "data = df[[\"duration_\", \"src_bytes\",\"dst_bytes\"]]\n",
    "\n",
    "# trains the model \n",
    "model = IsolationForest(contamination = estimte_contamination, n_estimators = n_estimators)\n",
    "model.fit(data)"
   ]
  },
  {
   "cell_type": "code",
   "execution_count": 148,
   "id": "001b789a",
   "metadata": {},
   "outputs": [],
   "source": [
    "# predicts\n",
    "df[\"is_anomaly?_\"] = pd.Series(model.predict(data))\n",
    "# maps the predictions from 1->0 and from -1->1\n",
    "df[\"is_anomaly?_\"] = df[\"is_anomaly?_\"].map({1:0, -1:1})"
   ]
  },
  {
   "cell_type": "code",
   "execution_count": 149,
   "id": "c6ede0d7",
   "metadata": {},
   "outputs": [
    {
     "name": "stdout",
     "output_type": "stream",
     "text": [
      "1014\n"
     ]
    }
   ],
   "source": [
    "# counts the number of anomalies that we got\n",
    "anomaly = df[\"is_anomaly?_\"].value_counts()[1]\n",
    "print(anomaly)"
   ]
  },
  {
   "cell_type": "markdown",
   "id": "df173902",
   "metadata": {},
   "source": [
    "### Exports results to CSV"
   ]
  },
  {
   "cell_type": "code",
   "execution_count": 150,
   "id": "102e6774",
   "metadata": {},
   "outputs": [],
   "source": [
    "selectlist = ['record ID', 'is_anomaly?_']\n",
    "datatowrite = df[selectlist]\n",
    "datatowrite.to_csv('results.csv', index=False)"
   ]
  },
  {
   "cell_type": "markdown",
   "id": "e69f5a11",
   "metadata": {},
   "source": [
    "### Confusion Matrix"
   ]
  },
  {
   "cell_type": "code",
   "execution_count": 151,
   "id": "b887d546",
   "metadata": {},
   "outputs": [],
   "source": [
    "# loads the anomaly_labels file\n",
    "f_path = \"/Users/liozakirav/Documents/computer-science/fourth-year/cyber/Tasks/Anomaly-detection/conn_attack_anomaly_labels.csv\"\n",
    "df_labels = pd.read_csv(f_path,names=['record ID','anomaly'], header=None)\n",
    "# stores the num of anomalies \n",
    "num_of_anomalies = df_labels['anomaly'].value_counts()"
   ]
  },
  {
   "cell_type": "code",
   "execution_count": 154,
   "id": "0e07d1ef",
   "metadata": {},
   "outputs": [
    {
     "name": "stdout",
     "output_type": "stream",
     "text": [
      "confusion matrix\n",
      "[[255629     19]\n",
      " [    27    995]]\n"
     ]
    }
   ],
   "source": [
    "y_test, y_pred = df_labels['anomaly'], df[\"is_anomaly?_\"]\n",
    "# runs the confusion matrix\n",
    "print(\"confusion matrix\")\n",
    "print(confusion_matrix(y_test, y_pred))"
   ]
  },
  {
   "cell_type": "code",
   "execution_count": 155,
   "id": "06600399",
   "metadata": {},
   "outputs": [
    {
     "name": "stdout",
     "output_type": "stream",
     "text": [
      "Statistics:\n",
      "              precision    recall  f1-score   support\n",
      "\n",
      "           0       1.00      1.00      1.00    255648\n",
      "           1       0.98      0.97      0.98      1022\n",
      "\n",
      "    accuracy                           1.00    256670\n",
      "   macro avg       0.99      0.99      0.99    256670\n",
      "weighted avg       1.00      1.00      1.00    256670\n",
      "\n",
      "TN:  255629 \n",
      "FP:  19 \n",
      "FN:  27 \n",
      "TP:  995\n",
      "TP+FN:  1022 \n",
      "TN+FP:  255648\n",
      "Accuracy: 0.9998207815482916\n"
     ]
    }
   ],
   "source": [
    "tn, fp, fn, tp = confusion_matrix(y_test, y_pred).ravel()\n",
    "print(\"Statistics:\")\n",
    "print(classification_report(df_labels['anomaly'], df['is_anomaly?_']))\n",
    "print(\"TN: \",tn,\"\\nFP: \", fp,\"\\nFN: \" ,fn,\"\\nTP: \", tp)\n",
    "print(\"TP+FN: \",tp+fn,\"\\nTN+FP: \", tn+fp)\n",
    "print('Accuracy: {}'.format(accuracy_score(df_labels['anomaly'],df['is_anomaly?_'])))\n"
   ]
  },
  {
   "cell_type": "code",
   "execution_count": null,
   "id": "ecc3bce7",
   "metadata": {},
   "outputs": [],
   "source": []
  }
 ],
 "metadata": {
  "kernelspec": {
   "display_name": "Python 3.10.3 64-bit",
   "language": "python",
   "name": "python3"
  },
  "language_info": {
   "codemirror_mode": {
    "name": "ipython",
    "version": 3
   },
   "file_extension": ".py",
   "mimetype": "text/x-python",
   "name": "python",
   "nbconvert_exporter": "python",
   "pygments_lexer": "ipython3",
   "version": "3.10.3"
  },
  "vscode": {
   "interpreter": {
    "hash": "aee8b7b246df8f9039afb4144a1f6fd8d2ca17a180786b69acc140d282b71a49"
   }
  }
 },
 "nbformat": 4,
 "nbformat_minor": 5
}
